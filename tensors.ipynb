{
 "cells": [
  {
   "cell_type": "code",
   "execution_count": 95,
   "id": "initial_id",
   "metadata": {
    "collapsed": true,
    "ExecuteTime": {
     "end_time": "2023-11-28T19:12:21.691528432Z",
     "start_time": "2023-11-28T19:12:21.558426215Z"
    }
   },
   "outputs": [
    {
     "name": "stdout",
     "output_type": "stream",
     "text": [
      "tensor([1, 2, 3])\n",
      "tensor([4, 5, 6], dtype=torch.int32)\n"
     ]
    }
   ],
   "source": [
    "import torch\n",
    "import numpy as np\n",
    "\n",
    "np.set_printoptions(precision=3)\n",
    "\n",
    "a = [1, 2, 3]\n",
    "b = np.array([4, 5, 6], dtype=np.int32)\n",
    "\n",
    "t_a = torch.tensor(a)\n",
    "t_b = torch.tensor(b)\n",
    "\n",
    "print(t_a)\n",
    "print(t_b)\n"
   ]
  },
  {
   "cell_type": "markdown",
   "source": [
    "Transpose: "
   ],
   "metadata": {
    "collapsed": false
   },
   "id": "a3c7928fb607a61d"
  },
  {
   "cell_type": "code",
   "execution_count": 96,
   "outputs": [
    {
     "name": "stdout",
     "output_type": "stream",
     "text": [
      "torch.Size([3, 5, 3, 2])  -->  torch.Size([5, 3, 3, 2])\n",
      "tensor([[[[0.6397, 0.9743],\n",
      "          [0.8300, 0.0444],\n",
      "          [0.0246, 0.2588]],\n",
      "\n",
      "         [[0.9391, 0.4167],\n",
      "          [0.7140, 0.2676],\n",
      "          [0.9906, 0.2885]],\n",
      "\n",
      "         [[0.8750, 0.5059],\n",
      "          [0.2366, 0.7570],\n",
      "          [0.2346, 0.6471]],\n",
      "\n",
      "         [[0.3556, 0.4452],\n",
      "          [0.0193, 0.2616],\n",
      "          [0.7713, 0.3785]],\n",
      "\n",
      "         [[0.9980, 0.9008],\n",
      "          [0.4766, 0.1663],\n",
      "          [0.8045, 0.6552]]],\n",
      "\n",
      "\n",
      "        [[[0.1768, 0.8248],\n",
      "          [0.8036, 0.9434],\n",
      "          [0.2197, 0.4177]],\n",
      "\n",
      "         [[0.4903, 0.5730],\n",
      "          [0.1205, 0.1452],\n",
      "          [0.7720, 0.3828]],\n",
      "\n",
      "         [[0.7442, 0.5285],\n",
      "          [0.6642, 0.6099],\n",
      "          [0.6818, 0.7479]],\n",
      "\n",
      "         [[0.0369, 0.7517],\n",
      "          [0.1484, 0.1227],\n",
      "          [0.5304, 0.4148]],\n",
      "\n",
      "         [[0.7937, 0.2104],\n",
      "          [0.0555, 0.8639],\n",
      "          [0.4259, 0.7812]]],\n",
      "\n",
      "\n",
      "        [[[0.6607, 0.1251],\n",
      "          [0.6004, 0.6201],\n",
      "          [0.1652, 0.2628]],\n",
      "\n",
      "         [[0.6705, 0.5896],\n",
      "          [0.2873, 0.3486],\n",
      "          [0.9579, 0.4075]],\n",
      "\n",
      "         [[0.7819, 0.7165],\n",
      "          [0.1768, 0.0748],\n",
      "          [0.9799, 0.5261]],\n",
      "\n",
      "         [[0.8427, 0.6036],\n",
      "          [0.6608, 0.8735],\n",
      "          [0.9741, 0.1682]],\n",
      "\n",
      "         [[0.5625, 0.8731],\n",
      "          [0.8622, 0.8106],\n",
      "          [0.1381, 0.1399]]]])  -->  tensor([[[[0.6397, 0.9743],\n",
      "          [0.8300, 0.0444],\n",
      "          [0.0246, 0.2588]],\n",
      "\n",
      "         [[0.1768, 0.8248],\n",
      "          [0.8036, 0.9434],\n",
      "          [0.2197, 0.4177]],\n",
      "\n",
      "         [[0.6607, 0.1251],\n",
      "          [0.6004, 0.6201],\n",
      "          [0.1652, 0.2628]]],\n",
      "\n",
      "\n",
      "        [[[0.9391, 0.4167],\n",
      "          [0.7140, 0.2676],\n",
      "          [0.9906, 0.2885]],\n",
      "\n",
      "         [[0.4903, 0.5730],\n",
      "          [0.1205, 0.1452],\n",
      "          [0.7720, 0.3828]],\n",
      "\n",
      "         [[0.6705, 0.5896],\n",
      "          [0.2873, 0.3486],\n",
      "          [0.9579, 0.4075]]],\n",
      "\n",
      "\n",
      "        [[[0.8750, 0.5059],\n",
      "          [0.2366, 0.7570],\n",
      "          [0.2346, 0.6471]],\n",
      "\n",
      "         [[0.7442, 0.5285],\n",
      "          [0.6642, 0.6099],\n",
      "          [0.6818, 0.7479]],\n",
      "\n",
      "         [[0.7819, 0.7165],\n",
      "          [0.1768, 0.0748],\n",
      "          [0.9799, 0.5261]]],\n",
      "\n",
      "\n",
      "        [[[0.3556, 0.4452],\n",
      "          [0.0193, 0.2616],\n",
      "          [0.7713, 0.3785]],\n",
      "\n",
      "         [[0.0369, 0.7517],\n",
      "          [0.1484, 0.1227],\n",
      "          [0.5304, 0.4148]],\n",
      "\n",
      "         [[0.8427, 0.6036],\n",
      "          [0.6608, 0.8735],\n",
      "          [0.9741, 0.1682]]],\n",
      "\n",
      "\n",
      "        [[[0.9980, 0.9008],\n",
      "          [0.4766, 0.1663],\n",
      "          [0.8045, 0.6552]],\n",
      "\n",
      "         [[0.7937, 0.2104],\n",
      "          [0.0555, 0.8639],\n",
      "          [0.4259, 0.7812]],\n",
      "\n",
      "         [[0.5625, 0.8731],\n",
      "          [0.8622, 0.8106],\n",
      "          [0.1381, 0.1399]]]])\n"
     ]
    }
   ],
   "source": [
    "t = torch.rand(3, 5, 3, 2)\n",
    "t_tr = torch.transpose(t, 0, 1)\n",
    "\n",
    "print(t.shape, ' --> ', t_tr.shape)\n",
    "print(t, ' --> ', t_tr)"
   ],
   "metadata": {
    "collapsed": false,
    "ExecuteTime": {
     "end_time": "2023-11-28T19:12:21.693239516Z",
     "start_time": "2023-11-28T19:12:21.579486567Z"
    }
   },
   "id": "4e890c82b97059a5"
  },
  {
   "cell_type": "markdown",
   "source": [
    "Reshape"
   ],
   "metadata": {
    "collapsed": false
   },
   "id": "6f4b25e02cf9fd47"
  },
  {
   "cell_type": "code",
   "execution_count": 97,
   "outputs": [
    {
     "name": "stdout",
     "output_type": "stream",
     "text": [
      "tensor([0.1976, 0.5628, 0.9983, 0.1842, 0.7664, 0.2233, 0.0299, 0.3937, 0.7881,\n",
      "        0.9642, 0.1895, 0.6085, 0.9314, 0.8313, 0.8116, 0.8553, 0.8163, 0.6291,\n",
      "        0.1581, 0.0801, 0.2709, 0.4418, 0.1935, 0.6829, 0.6547, 0.3868, 0.6922,\n",
      "        0.6616, 0.8053, 0.8367])\n",
      "tensor([[0.1976, 0.5628, 0.9983, 0.1842, 0.7664, 0.2233],\n",
      "        [0.0299, 0.3937, 0.7881, 0.9642, 0.1895, 0.6085],\n",
      "        [0.9314, 0.8313, 0.8116, 0.8553, 0.8163, 0.6291],\n",
      "        [0.1581, 0.0801, 0.2709, 0.4418, 0.1935, 0.6829],\n",
      "        [0.6547, 0.3868, 0.6922, 0.6616, 0.8053, 0.8367]])\n"
     ]
    }
   ],
   "source": [
    "t = torch.rand(30)\n",
    "t_r = t.reshape(5, 6)\n",
    "print(t)\n",
    "print(t_r)"
   ],
   "metadata": {
    "collapsed": false,
    "ExecuteTime": {
     "end_time": "2023-11-28T19:12:21.695364443Z",
     "start_time": "2023-11-28T19:12:21.587444741Z"
    }
   },
   "id": "44ba0bb13d3d613a"
  },
  {
   "cell_type": "markdown",
   "source": [
    "Squeze - remove unnecessary dimensions (dimensions that have size 1, which are not needed)"
   ],
   "metadata": {
    "collapsed": false
   },
   "id": "daa50bc374ec9d96"
  },
  {
   "cell_type": "code",
   "execution_count": 98,
   "outputs": [
    {
     "name": "stdout",
     "output_type": "stream",
     "text": [
      "tensor([[[[[0.],\n",
      "           [0.],\n",
      "           [0.],\n",
      "           [0.]]],\n",
      "\n",
      "\n",
      "         [[[0.],\n",
      "           [0.],\n",
      "           [0.],\n",
      "           [0.]]]]])\n",
      "torch.Size([1, 2, 1, 4, 1])\n",
      "tensor([[[[0.],\n",
      "          [0.],\n",
      "          [0.],\n",
      "          [0.]],\n",
      "\n",
      "         [[0.],\n",
      "          [0.],\n",
      "          [0.],\n",
      "          [0.]]]])\n",
      "torch.Size([1, 2, 4, 1])\n"
     ]
    }
   ],
   "source": [
    "t = torch.zeros(1, 2, 1, 4, 1)\n",
    "print(t)\n",
    "print(t.shape)\n",
    "t_s = torch.squeeze(t, 2)\n",
    "print(t_s)\n",
    "print(t_s.shape)"
   ],
   "metadata": {
    "collapsed": false,
    "ExecuteTime": {
     "end_time": "2023-11-28T19:12:21.754274681Z",
     "start_time": "2023-11-28T19:12:21.594727041Z"
    }
   },
   "id": "8d5cdfe312348143"
  },
  {
   "cell_type": "markdown",
   "source": [
    "Multiply element-wise (uniform and standard random distribution samples)"
   ],
   "metadata": {
    "collapsed": false
   },
   "id": "738c8c5347bbea51"
  },
  {
   "cell_type": "code",
   "execution_count": 99,
   "outputs": [
    {
     "name": "stdout",
     "output_type": "stream",
     "text": [
      "tensor([[0.7576, 0.2793],\n",
      "        [0.4031, 0.7347],\n",
      "        [0.0293, 0.7999],\n",
      "        [0.3971, 0.7544],\n",
      "        [0.5695, 0.4388]])\n",
      "tensor([[ 0.4426, -0.3114],\n",
      "        [ 0.0660, -0.5970],\n",
      "        [ 1.1249,  0.0150],\n",
      "        [ 0.1569,  0.7107],\n",
      "        [-0.0451, -0.0352]])\n",
      "torch.Size([5, 2])\n",
      "tensor([ 0.3491, -0.0436])\n",
      "tensor([ 0.3491, -0.0436])\n"
     ]
    }
   ],
   "source": [
    "torch.manual_seed(1)\n",
    "t1 = torch.rand(5, 2)  # uniform distribution\n",
    "print(t1)\n",
    "\n",
    "t1 = 2 * t1 - 1\n",
    "t2 = torch.normal(mean=0, std=1, size=(5, 2))  # standard normal distribution\n",
    "\n",
    "t3 = torch.multiply(t1, t2)  # element-wise multiplication\n",
    "print(t3)\n",
    "print(t3.shape)\n",
    "\n",
    "t4 = torch.mean(t3, axis=0)  # mean over elements of first axis (column 0 and 1)\n",
    "print(t4)\n",
    "\n",
    "t5 = torch.sum(t3, axis=0) / 5  # by hand computation of mean\n",
    "print(t5)"
   ],
   "metadata": {
    "collapsed": false,
    "ExecuteTime": {
     "end_time": "2023-11-28T19:12:21.755307277Z",
     "start_time": "2023-11-28T19:12:21.636860986Z"
    }
   },
   "id": "fc22d2f76ec265cb"
  },
  {
   "cell_type": "markdown",
   "source": [
    "Matrix multiplication"
   ],
   "metadata": {
    "collapsed": false
   },
   "id": "546d04d631e065c1"
  },
  {
   "cell_type": "code",
   "execution_count": 100,
   "outputs": [
    {
     "name": "stdout",
     "output_type": "stream",
     "text": [
      "tensor([[ 0.1312,  0.3860, -0.6267, -1.0096, -0.2943],\n",
      "        [ 0.1647, -0.5310,  0.2434,  0.8035,  0.1980],\n",
      "        [-0.3855, -0.4422,  1.1399,  1.5558,  0.4781],\n",
      "        [ 0.1822, -0.5771,  0.2585,  0.8676,  0.2132],\n",
      "        [ 0.0330,  0.1084, -0.1692, -0.2771, -0.0804]])\n"
     ]
    }
   ],
   "source": [
    "t6 = torch.matmul(t1, torch.transpose(t2, 0, 1))\n",
    "print(t6)"
   ],
   "metadata": {
    "collapsed": false,
    "ExecuteTime": {
     "end_time": "2023-11-28T19:12:21.755998786Z",
     "start_time": "2023-11-28T19:12:21.637125779Z"
    }
   },
   "id": "9e757b4c4c73fa69"
  },
  {
   "cell_type": "code",
   "execution_count": 101,
   "outputs": [
    {
     "name": "stdout",
     "output_type": "stream",
     "text": [
      "tensor([[ 1.7453,  0.3392],\n",
      "        [-1.6038, -0.2180]])\n"
     ]
    }
   ],
   "source": [
    "t7 = torch.matmul(torch.transpose(t1, 0, 1), t2)\n",
    "print(t7)"
   ],
   "metadata": {
    "collapsed": false,
    "ExecuteTime": {
     "end_time": "2023-11-28T19:12:21.756602807Z",
     "start_time": "2023-11-28T19:12:21.637295527Z"
    }
   },
   "id": "ee412742a43d327f"
  },
  {
   "cell_type": "markdown",
   "source": [],
   "metadata": {
    "collapsed": false
   },
   "id": "39e5f940f5888c3d"
  }
 ],
 "metadata": {
  "kernelspec": {
   "display_name": "Python 3",
   "language": "python",
   "name": "python3"
  },
  "language_info": {
   "codemirror_mode": {
    "name": "ipython",
    "version": 2
   },
   "file_extension": ".py",
   "mimetype": "text/x-python",
   "name": "python",
   "nbconvert_exporter": "python",
   "pygments_lexer": "ipython2",
   "version": "2.7.6"
  }
 },
 "nbformat": 4,
 "nbformat_minor": 5
}
